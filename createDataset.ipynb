{
 "cells": [
  {
   "cell_type": "code",
   "execution_count": null,
   "id": "1fb8b859-4205-41e1-9e05-c95421afe34b",
   "metadata": {},
   "outputs": [],
   "source": [
    "import cv2"
   ]
  },
  {
   "cell_type": "code",
   "execution_count": 7,
   "id": "ca2a3059-f369-4280-989a-d338325d4ea4",
   "metadata": {},
   "outputs": [
    {
     "name": "stderr",
     "output_type": "stream",
     "text": [
      "<>:7: SyntaxWarning: \"is\" with 'tuple' literal. Did you mean \"==\"?\n",
      "<>:7: SyntaxWarning: \"is\" with 'tuple' literal. Did you mean \"==\"?\n",
      "C:\\Users\\Admin\\AppData\\Local\\Temp\\ipykernel_16808\\2893295271.py:7: SyntaxWarning: \"is\" with 'tuple' literal. Did you mean \"==\"?\n",
      "  if faces is():\n"
     ]
    },
    {
     "name": "stdout",
     "output_type": "stream",
     "text": [
      "Collecting sample is complete...\n"
     ]
    }
   ],
   "source": [
    "import cv2\n",
    "def face_dataset():\n",
    "    face_classifier=cv2.CascadeClassifier(\"haarcascade_frontalface_default.xml\")\n",
    "    def face_cropped(img):\n",
    "        gray=cv2.cvtColor(img, cv2.COLOR_BGR2GRAY)\n",
    "        faces=face_classifier.detectMultiScale(gray, 1.3, 5)\n",
    "        if faces is():\n",
    "            return None\n",
    "        for(x,y,w,h) in faces:\n",
    "            cropped_face=img[y:y+h,x:x+w]\n",
    "        return cropped_face\n",
    "    cap=cv2.VideoCapture(0)\n",
    "    id=2\n",
    "    img_id=0\n",
    "    while True:\n",
    "        ret, frame = cap.read()\n",
    "        if face_cropped(frame) is not None:\n",
    "            img_id+=1\n",
    "            face=cv2.resize(face_cropped(frame),(200,200))\n",
    "            face=cv2.cvtColor(face, cv2.COLOR_BGR2GRAY)\n",
    "            file_name_path=\"data/user.\"+str(id)+\".\"+str(img_id)+\".jpg\"\n",
    "            cv2.imwrite(file_name_path, face)\n",
    "            cv2.putText(face, str(img_id),(50,50),cv2.FONT_HERSHEY_COMPLEX,1 , (0,255,0),2)\n",
    "            cv2.imshow(\"cropped face\", face)\n",
    "            if cv2.waitKey(1)==13 or int(img_id)==200:\n",
    "                break\n",
    "    cap.release()\n",
    "    cv2.destroyAllWindows()\n",
    "    print(\"Collecting sample is complete...\")\n",
    "face_dataset()"
   ]
  },
  {
   "cell_type": "code",
   "execution_count": 10,
   "id": "50a92ab5-0a6c-411a-bc81-6ce3e7a437e2",
   "metadata": {},
   "outputs": [
    {
     "ename": "AttributeError",
     "evalue": "module 'cv2.face' has no attribute 'LBPHFaceRecognizer_create'",
     "output_type": "error",
     "traceback": [
      "\u001b[31m---------------------------------------------------------------------------\u001b[39m",
      "\u001b[31mAttributeError\u001b[39m                            Traceback (most recent call last)",
      "\u001b[36mCell\u001b[39m\u001b[36m \u001b[39m\u001b[32mIn[10]\u001b[39m\u001b[32m, line 26\u001b[39m\n\u001b[32m     24\u001b[39m     clf.train(faces,ids)\n\u001b[32m     25\u001b[39m     clf.write(\u001b[33m\"\u001b[39m\u001b[33mclassifier.xml\u001b[39m\u001b[33m\"\u001b[39m)\n\u001b[32m---> \u001b[39m\u001b[32m26\u001b[39m \u001b[43mtrain_classifier\u001b[49m\u001b[43m(\u001b[49m\u001b[33;43m\"\u001b[39;49m\u001b[33;43mdata\u001b[39;49m\u001b[33;43m\"\u001b[39;49m\u001b[43m)\u001b[49m\n",
      "\u001b[36mCell\u001b[39m\u001b[36m \u001b[39m\u001b[32mIn[10]\u001b[39m\u001b[32m, line 23\u001b[39m, in \u001b[36mtrain_classifier\u001b[39m\u001b[34m(data_dir)\u001b[39m\n\u001b[32m     20\u001b[39m ids = np.array(ids)\n\u001b[32m     22\u001b[39m \u001b[38;5;66;03m# Train and save classifier\u001b[39;00m\n\u001b[32m---> \u001b[39m\u001b[32m23\u001b[39m clf = \u001b[43mcv2\u001b[49m\u001b[43m.\u001b[49m\u001b[43mface\u001b[49m\u001b[43m.\u001b[49m\u001b[43mLBPHFaceRecognizer_create\u001b[49m()\n\u001b[32m     24\u001b[39m clf.train(faces,ids)\n\u001b[32m     25\u001b[39m clf.write(\u001b[33m\"\u001b[39m\u001b[33mclassifier.xml\u001b[39m\u001b[33m\"\u001b[39m)\n",
      "\u001b[31mAttributeError\u001b[39m: module 'cv2.face' has no attribute 'LBPHFaceRecognizer_create'"
     ]
    }
   ],
   "source": [
    "import os\n",
    "import cv2\n",
    "from PIL import Image\n",
    "import numpy as np\n",
    " \n",
    "def train_classifier(data_dir):\n",
    "    path = [os.path.join(data_dir, f) for f in os.listdir(data_dir)]\n",
    "     \n",
    "    faces = []\n",
    "    ids = []\n",
    "     \n",
    "    for image in path:\n",
    "        img = Image.open(image).convert('L')\n",
    "        imageNp = np.array(img, 'uint8')\n",
    "        id = int(os.path.split(image)[1].split(\".\")[1])\n",
    "         \n",
    "        faces.append(imageNp)\n",
    "        ids.append(id)\n",
    "         \n",
    "    ids = np.array(ids)\n",
    "     \n",
    "    # Train and save classifier\n",
    "    clf = cv2.face.LBPHFaceRecognizer_create()\n",
    "    clf.train(faces,ids)\n",
    "    clf.write(\"classifier.xml\")\n",
    "train_classifier(\"data\")"
   ]
  },
  {
   "cell_type": "code",
   "execution_count": null,
   "id": "25d6ec29-67bc-41d8-8d63-632bb508a3a4",
   "metadata": {},
   "outputs": [],
   "source": []
  }
 ],
 "metadata": {
  "kernelspec": {
   "display_name": "Python 3 (ipykernel)",
   "language": "python",
   "name": "python3"
  },
  "language_info": {
   "codemirror_mode": {
    "name": "ipython",
    "version": 3
   },
   "file_extension": ".py",
   "mimetype": "text/x-python",
   "name": "python",
   "nbconvert_exporter": "python",
   "pygments_lexer": "ipython3",
   "version": "3.12.8"
  }
 },
 "nbformat": 4,
 "nbformat_minor": 5
}
